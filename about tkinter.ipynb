{
 "cells": [
  {
   "cell_type": "markdown",
   "metadata": {},
   "source": [
    "Pythonで何か作るにしても、GUIで開発した方が使いやすい。\n",
    "\n",
    "そこで、tkinterについて勉強してみる。\n",
    "\n",
    "下記のページに色々と書いてあるが、細かくてよくわからない。じっくり試しながら調べていきたい。\n",
    "\n",
    "https://docs.python.jp/3/library/tkinter.html\n",
    "\n",
    "\n",
    "\"Tkinter は Python からGUIを構築・操作するための標準ライブラリ（ウィジェット・ツールキット）である。\n",
    "\n",
    "Tcl/Tk の Tk 部分を Python で利用できるようにしたもので、使い方も可能な限り Tcl/Tk にあわせられるように作られている。 これにより、スクリプト言語である Python から簡単にGUI画面をもったアプリケーションを作ることが可能になる。\"\n",
    "\n",
    "https://ja.wikipedia.org/wiki/Tkinter\n",
    "\n",
    "\"Tkは、GUIを開発するための、オープンソースの、クロスプラットフォームのウィジェット・ツールキットである。デスクトップ・アプリケーションを開発するために通常必要な、ボタン、メニュー、テキスト、フレーム、ラベルなどのウィジェットを提供する。カリフォルニア大学バークレー校の John Ousterhout によって、スクリプト言語 Tclの拡張として開発された。Tk は \"Tool Kit\" の略である。Unix系OS、Macintosh、Microsoft Windowsなどに移植されている。\"\n",
    "\n",
    "https://ja.wikipedia.org/wiki/Tk_(%E3%83%84%E3%83%BC%E3%83%AB%E3%82%AD%E3%83%83%E3%83%88)\n"
   ]
  },
  {
   "cell_type": "code",
   "execution_count": null,
   "metadata": {
    "collapsed": true
   },
   "outputs": [],
   "source": [
    "とりあえず、最低限の記述だと下記の　ようになる。実行すると、ウィンドウが開く。\n",
    "後は、これに色々なボタンをつけていく感じになる。"
   ]
  },
  {
   "cell_type": "code",
   "execution_count": 7,
   "metadata": {},
   "outputs": [],
   "source": [
    "import tkinter\n",
    "f = tkinter.Frame()\n",
    "f.mainloop()"
   ]
  },
  {
   "cell_type": "code",
   "execution_count": null,
   "metadata": {
    "collapsed": true
   },
   "outputs": [],
   "source": []
  },
  {
   "cell_type": "code",
   "execution_count": null,
   "metadata": {
    "collapsed": true
   },
   "outputs": [],
   "source": []
  }
 ],
 "metadata": {
  "kernelspec": {
   "display_name": "Python 3",
   "language": "python",
   "name": "python3"
  },
  "language_info": {
   "codemirror_mode": {
    "name": "ipython",
    "version": 3
   },
   "file_extension": ".py",
   "mimetype": "text/x-python",
   "name": "python",
   "nbconvert_exporter": "python",
   "pygments_lexer": "ipython3",
   "version": "3.6.3"
  }
 },
 "nbformat": 4,
 "nbformat_minor": 2
}
